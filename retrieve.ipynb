{
 "cells": [
  {
   "cell_type": "code",
   "execution_count": 30,
   "metadata": {},
   "outputs": [],
   "source": [
    "import tweepy\n",
    "import configparser\n",
    "import pandas as pd\n",
    "from datetime import datetime\n",
    "import csv\n",
    "\n",
    "# read configs\n",
    "config = configparser.ConfigParser()\n",
    "config.read('config.ini')\n",
    "\n",
    "api_key = config['twitter']['api_key']\n",
    "api_key_secret = config['twitter']['api_key_secret']\n",
    "\n",
    "bearer_token = config['twitter']['bearer_token']\n",
    "\n",
    "access_token = config['twitter']['access_token']\n",
    "access_token_secret = config['twitter']['access_token_secret']\n",
    "\n",
    "client_id = config['twitter']['client_id']\n",
    "client_secret = config['twitter']['client_secret']"
   ]
  },
  {
   "cell_type": "code",
   "execution_count": 41,
   "metadata": {},
   "outputs": [],
   "source": [
    "# api set up\n",
    "client = tweepy.Client(bearer_token=bearer_token)\n",
    "\n",
    "query = '(from:elonmusk)'\n",
    "\n",
    "# response = client.search_recent_tweets(query=query, max_results = 10, tweet_fields=['created_at'])\n",
    "\n",
    "response = []\n",
    "\n",
    "# for tweet in tweepy.Paginator(client.search_recent_tweets, query=query, max_results=100, tweet_fields=['created_at']).flatten(limit=6999):\n",
    "#     response.append([tweet.created_at, tweet.text])\n",
    "\n",
    "csv_file = \"1tweets.csv\"\n",
    "\n",
    "# with open(csv_file, mode='w', newline='', encoding='utf-8') as file:\n",
    "#     writer = csv.writer(file)\n",
    "#     writer.writerow([\"Time (+0)\", \"Tweet\"])  # Write header\n",
    "#     writer.writerows(response)\n",
    "\n",
    "with open(csv_file, mode='w', newline='', encoding='utf-8') as file:\n",
    "    writer = csv.writer(file)\n",
    "    writer.writerow([\"Time (+0)\", \"Tweet\"])  # Write header\n",
    "\n",
    "for tweet in tweepy.Paginator(client.search_recent_tweets, query=query, max_results=100, tweet_fields=['created_at']).flatten(limit=6999):\n",
    "    tweet_data = [tweet.created_at, tweet.text]\n",
    "    writer.writerow(tweet_data)\n",
    "    response.append(tweet_data)"
   ]
  },
  {
   "cell_type": "code",
   "execution_count": 43,
   "metadata": {},
   "outputs": [
    {
     "name": "stdout",
     "output_type": "stream",
     "text": [
      "               Time (+0)                                              Tweet\n",
      "0    2023-05-11 10:11:16    @growing_daniel @ehikian @512x512 Probably true\n",
      "1    2023-05-11 10:08:59  @teslaownersSV Major update coming in a few mo...\n",
      "2    2023-05-11 09:32:11  RT @SpaceX: Starship is the largest, most capa...\n",
      "3    2023-05-11 09:24:48  @goth600 Then he added “Silicon is for n00bs, ...\n",
      "4    2023-05-11 09:17:47  @thejefflutz @SawyerMerritt @Tesla @CathieDWoo...\n",
      "..                   ...                                                ...\n",
      "345  2023-05-04 18:04:34                    @cb_doge Thanks for the 3 Doge!\n",
      "346  2023-05-04 18:01:57  @iluli_eu True, electronics all want DC, not A...\n",
      "347  2023-05-04 17:58:59                    @MTA Welcome back to Twitter! 💕\n",
      "348  2023-05-04 17:56:08  May the 4th be with you ❤️ https://t.co/jicWCJ...\n",
      "349  2023-05-04 17:48:32  @robertsepehr @teslaownersSV Yes, but they are...\n",
      "\n",
      "[350 rows x 2 columns]\n"
     ]
    }
   ],
   "source": [
    "# create Dataframe\n",
    "columns = ['Time (+0)', 'Tweet']\n",
    "df = pd.DataFrame(response, columns=columns)\n",
    "\n",
    "def format_time(timestamp):\n",
    "    formatted_time = pd.to_datetime(timestamp).strftime(\"%Y-%m-%d %H:%M:%S\")\n",
    "    return formatted_time\n",
    "\n",
    "df['Time (+0)'] = df['Time (+0)'].apply(format_time)\n",
    "print(df)\n",
    "\n",
    "# export output into csv file\n",
    "df.to_csv('2musk_tweets.csv', index=False, encoding='utf-8')"
   ]
  }
 ],
 "metadata": {
  "kernelspec": {
   "display_name": "Python 3",
   "language": "python",
   "name": "python3"
  },
  "language_info": {
   "codemirror_mode": {
    "name": "ipython",
    "version": 3
   },
   "file_extension": ".py",
   "mimetype": "text/x-python",
   "name": "python",
   "nbconvert_exporter": "python",
   "pygments_lexer": "ipython3",
   "version": "3.11.2"
  },
  "orig_nbformat": 4
 },
 "nbformat": 4,
 "nbformat_minor": 2
}
